{
 "cells": [
  {
   "cell_type": "markdown",
   "metadata": {},
   "source": [
    "# Using Spatial 2SLS regression to estimate the impact of socio-economic factors on *Crime Rate* in Chicago\n"
   ]
  },
  {
   "cell_type": "markdown",
   "metadata": {},
   "source": [
    "In the process of evaluating our models, we adhere to a standard statistical significance threshold of 5%."
   ]
  },
  {
   "cell_type": "code",
   "execution_count": 252,
   "metadata": {},
   "outputs": [],
   "source": [
    "import geopandas as gpd\n",
    "import libpysal as  ps\n",
    "import spreg\n",
    "import warnings\n",
    "warnings.filterwarnings('ignore')\n",
    "from constants import PREPROCESSED_DATA_PATH\n",
    "\n",
    "gdf = gpd.read_file(PREPROCESSED_DATA_PATH)"
   ]
  },
  {
   "cell_type": "markdown",
   "metadata": {},
   "source": [
    "The code below creates a “Queen” contiguity weight matrix. In spatial analysis, a weight matrix defines the “neighbors” for each observation in the dataset. The “Queen” method considers two observations as neighbors if they share a common edge or a common vertex. Also, the normalization of the weight matrix using row-standardization is performed."
   ]
  },
  {
   "cell_type": "code",
   "execution_count": 253,
   "metadata": {},
   "outputs": [],
   "source": [
    "w = ps.weights.Rook.from_dataframe(gdf)\n",
    "w.transform='r'"
   ]
  },
  {
   "cell_type": "markdown",
   "metadata": {},
   "source": [
    "The `robust=\"white\"` attribute is used in our model to make our error calculations more reliable. The `spreg.GM_Lag` class provides access to the Spatial Two Stage Least Squares (S2SLS) with results and diagnostics.\n",
    "\n",
    "S2SLS regression utilizing the White Population Percent variable:"
   ]
  },
  {
   "cell_type": "code",
   "execution_count": 254,
   "metadata": {},
   "outputs": [
    {
     "name": "stdout",
     "output_type": "stream",
     "text": [
      "REGRESSION RESULTS\n",
      "------------------\n",
      "\n",
      "SUMMARY OF OUTPUT: SPATIAL TWO STAGE LEAST SQUARES\n",
      "--------------------------------------------------\n",
      "Data set            :     unknown\n",
      "Weights matrix      :     unknown\n",
      "Dependent Variable  :  CRIME_RATE                Number of Observations:          77\n",
      "Mean dependent var  :     61.8206                Number of Variables   :           7\n",
      "S.D. dependent var  :     39.4260                Degrees of Freedom    :          70\n",
      "Pseudo R-squared    :      0.8702\n",
      "Spatial Pseudo R-squared:  0.8453\n",
      "\n",
      "White Standard Errors\n",
      "------------------------------------------------------------------------------------\n",
      "            Variable     Coefficient       Std.Error     z-Statistic     Probability\n",
      "------------------------------------------------------------------------------------\n",
      "            CONSTANT        25.44052        10.65582         2.38748         0.01696\n",
      "         POP_DENSITY        -0.00139         0.00051        -2.72026         0.00652\n",
      "LIQUOR_STORES_DENSITY       116.54921        21.49986         5.42093         0.00000\n",
      "POP_BELOW_125_POVERTY_PCT         0.50341         0.17347         2.90207         0.00371\n",
      "       WHITE_POP_PCT        -0.44738         0.08928        -5.01084         0.00000\n",
      "       ASIAN_POP_PCT        -0.34482         0.14142        -2.43823         0.01476\n",
      "        W_CRIME_RATE         0.44496         0.09111         4.88367         0.00000\n",
      "------------------------------------------------------------------------------------\n",
      "Instrumented: W_CRIME_RATE\n",
      "Instruments: W_ASIAN_POP_PCT, W_LIQUOR_STORES_DENSITY,\n",
      "             W_POP_BELOW_125_POVERTY_PCT, W_POP_DENSITY, W_WHITE_POP_PCT\n",
      "================================ END OF REPORT =====================================\n"
     ]
    }
   ],
   "source": [
    "Y_name = 'CRIME_RATE'\n",
    "X_name = ['POP_DENSITY', 'LIQUOR_STORES_DENSITY', 'POP_BELOW_125_POVERTY_PCT', 'WHITE_POP_PCT', 'ASIAN_POP_PCT']\n",
    "\n",
    "Y = gdf[Y_name].to_numpy()\n",
    "X = gdf[X_name].to_numpy()\n",
    "\n",
    "sem = spreg.GM_Lag(Y, X,  w=w, name_y=Y_name, name_x=X_name, robust='white')\n",
    "\n",
    "print(sem.summary)"
   ]
  },
  {
   "cell_type": "markdown",
   "metadata": {},
   "source": [
    "S2SLS regression utilizing the Black Population Percent variable:"
   ]
  },
  {
   "cell_type": "code",
   "execution_count": 255,
   "metadata": {},
   "outputs": [
    {
     "name": "stdout",
     "output_type": "stream",
     "text": [
      "REGRESSION RESULTS\n",
      "------------------\n",
      "\n",
      "SUMMARY OF OUTPUT: SPATIAL TWO STAGE LEAST SQUARES\n",
      "--------------------------------------------------\n",
      "Data set            :     unknown\n",
      "Weights matrix      :     unknown\n",
      "Dependent Variable  :  CRIME_RATE                Number of Observations:          77\n",
      "Mean dependent var  :     61.8206                Number of Variables   :           7\n",
      "S.D. dependent var  :     39.4260                Degrees of Freedom    :          70\n",
      "Pseudo R-squared    :      0.8674\n",
      "Spatial Pseudo R-squared:  0.8390\n",
      "\n",
      "White Standard Errors\n",
      "------------------------------------------------------------------------------------\n",
      "            Variable     Coefficient       Std.Error     z-Statistic     Probability\n",
      "------------------------------------------------------------------------------------\n",
      "            CONSTANT       -12.61295         5.33651        -2.36352         0.01810\n",
      "         POP_DENSITY        -0.00113         0.00053        -2.11283         0.03462\n",
      "LIQUOR_STORES_DENSITY       106.72871        23.21334         4.59773         0.00000\n",
      "POP_BELOW_125_POVERTY_PCT         0.69872         0.14150         4.93806         0.00000\n",
      "       BLACK_POP_PCT         0.36458         0.06983         5.22109         0.00000\n",
      "       ASIAN_POP_PCT        -0.08930         0.13619        -0.65568         0.51203\n",
      "        W_CRIME_RATE         0.39350         0.09764         4.03021         0.00006\n",
      "------------------------------------------------------------------------------------\n",
      "Instrumented: W_CRIME_RATE\n",
      "Instruments: W_ASIAN_POP_PCT, W_BLACK_POP_PCT, W_LIQUOR_STORES_DENSITY,\n",
      "             W_POP_BELOW_125_POVERTY_PCT, W_POP_DENSITY\n",
      "================================ END OF REPORT =====================================\n"
     ]
    }
   ],
   "source": [
    "X_name = ['POP_DENSITY', 'LIQUOR_STORES_DENSITY', 'POP_BELOW_125_POVERTY_PCT', 'BLACK_POP_PCT', 'ASIAN_POP_PCT']\n",
    "\n",
    "X = gdf[X_name].to_numpy()\n",
    "\n",
    "sem = spreg.GM_Lag(Y, X,  w=w, name_y=Y_name, name_x=X_name, robust='white')\n",
    "\n",
    "print(sem.summary)"
   ]
  },
  {
   "cell_type": "markdown",
   "metadata": {},
   "source": [
    "In the first regression, where the *WHITE_POP_PCT* variable is used, the S2SLS model exhibits a Pseudo R-squared value of 0.8702, indicating that the model explains approximately 87.02% of the variation in *CRIME_RATE*. This is an improvement over the OLS model.\n",
    "\n",
    "Among the independent variables, *POP_DENSITY*, *LIQUOR_STORES_DENSITY*, *POP_BELOW_125_POVERTY_PCT*, *WHITE_POP_PCT* and *ASIAN_POP_PCT* were found to be statistically significant. The negative coefficients for *POP_DENSITY*, *WHITE_POP_PCT* and *ASIAN_POP_PCT* suggest that an increase in these variables is associated with a decrease in the crime rate. This could indicate the presence of certain underlying factors.\n",
    "\n",
    "The variable *W_CRIME_RATE* is also significant, representing the spatial lag of the dependent variable *CRIME_RATE*. This suggests that the crime rate in a given location is influenced by the crime rates in neighboring locations. The positive coefficient of *W_CRIME_RATE* indicates that locations with high crime rates tend to be surrounded by other locations with high crime rates.\n",
    "\n",
    "In the second regression, where the *BLACK_POP_PCT* variable is used, the S2SLS model shows a Pseudo R-squared value of 0.8674. Among the independent variables, *POP_DENSITY*, *LIQUOR_STORES_DENSITY*, *POP_BELOW_125_POVERTY_PCT*, and *BLACK_POP_PCT* were found to be statistically significant. The positive coefficient for *BLACK_POP_PCT* suggests that an increase in the percentage of the black population is associated with an increase in the crime rate. This could be due to various socio-economic factors.\n",
    "\n",
    "The S2SLS model, with its ability to account for spatial dependence in the data, proves to be more reliable and accurate in predicting the crime rate. This is especially true given the significant Lagrange Multiplier tests in the OLS model. Thus, the S2SLS model is better suited for this analysis."
   ]
  }
 ],
 "metadata": {
  "kernelspec": {
   "display_name": ".venv",
   "language": "python",
   "name": "python3"
  },
  "language_info": {
   "codemirror_mode": {
    "name": "ipython",
    "version": 3
   },
   "file_extension": ".py",
   "mimetype": "text/x-python",
   "name": "python",
   "nbconvert_exporter": "python",
   "pygments_lexer": "ipython3",
   "version": "3.11.0"
  }
 },
 "nbformat": 4,
 "nbformat_minor": 2
}

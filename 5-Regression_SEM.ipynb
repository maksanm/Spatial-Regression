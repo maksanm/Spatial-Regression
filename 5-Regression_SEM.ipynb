{
 "cells": [
  {
   "cell_type": "markdown",
   "metadata": {},
   "source": [
    "# Using Spatial Error regression to estimate the impact of socio-economic factors on *Crime Rate* in Chicago\n"
   ]
  },
  {
   "cell_type": "markdown",
   "metadata": {},
   "source": [
    "In the process of evaluating our models, we adhere to a standard statistical significance threshold of 5%."
   ]
  },
  {
   "cell_type": "code",
   "execution_count": 1,
   "metadata": {},
   "outputs": [],
   "source": [
    "import geopandas as gpd\n",
    "import libpysal as  ps\n",
    "import spreg\n",
    "import warnings\n",
    "warnings.filterwarnings('ignore')\n",
    "from constants import PREPROCESSED_DATA_PATH\n",
    "\n",
    "gdf = gpd.read_file(PREPROCESSED_DATA_PATH)"
   ]
  },
  {
   "cell_type": "markdown",
   "metadata": {},
   "source": [
    "The code below creates a “Queen” contiguity weight matrix. In spatial analysis, a weight matrix defines the “neighbors” for each observation in the dataset. The “Queen” method considers two observations as neighbors if they share a common edge or a common vertex. Also, the normalization of the weight matrix using row-standardization is performed."
   ]
  },
  {
   "cell_type": "code",
   "execution_count": 2,
   "metadata": {},
   "outputs": [],
   "source": [
    "w = ps.weights.Queen.from_dataframe(gdf)\n",
    "w.transform='r'"
   ]
  },
  {
   "cell_type": "markdown",
   "metadata": {},
   "source": [
    "The `spreg.ML_Error` provides access to the Maximum Likelihood Spatial Error Model (SEM), with results and diagnostics. SEM regression utilizing the White Population Percent variable:"
   ]
  },
  {
   "cell_type": "code",
   "execution_count": 3,
   "metadata": {},
   "outputs": [
    {
     "name": "stdout",
     "output_type": "stream",
     "text": [
      "REGRESSION RESULTS\n",
      "------------------\n",
      "\n",
      "SUMMARY OF OUTPUT: ML SPATIAL ERROR (METHOD = full)\n",
      "---------------------------------------------------\n",
      "Data set            :     unknown\n",
      "Weights matrix      :     unknown\n",
      "Dependent Variable  :  CRIME_RATE                Number of Observations:          77\n",
      "Mean dependent var  :     61.8206                Number of Variables   :           6\n",
      "S.D. dependent var  :     39.4260                Degrees of Freedom    :          71\n",
      "Pseudo R-squared    :      0.8058\n",
      "Log likelihood      :   -320.0348\n",
      "Sigma-square ML     :    212.9012                Akaike info criterion :     652.070\n",
      "S.E of regression   :     14.5911                Schwarz criterion     :     666.132\n",
      "\n",
      "------------------------------------------------------------------------------------\n",
      "            Variable     Coefficient       Std.Error     z-Statistic     Probability\n",
      "------------------------------------------------------------------------------------\n",
      "            CONSTANT        72.69564        12.03657         6.03956         0.00000\n",
      "         POP_DENSITY        -0.00127         0.00089        -1.41918         0.15585\n",
      "LIQUOR_STORES_DENSITY        98.15166        11.48445         8.54649         0.00000\n",
      "POP_BELOW_125_POVERTY_PCT         0.37974         0.21105         1.79933         0.07197\n",
      "       WHITE_POP_PCT        -0.70843         0.11468        -6.17770         0.00000\n",
      "       ASIAN_POP_PCT        -0.35025         0.19643        -1.78303         0.07458\n",
      "              lambda         0.65990         0.09960         6.62564         0.00000\n",
      "------------------------------------------------------------------------------------\n",
      "================================ END OF REPORT =====================================\n"
     ]
    }
   ],
   "source": [
    "Y_name = 'CRIME_RATE'\n",
    "X_name = ['POP_DENSITY', 'LIQUOR_STORES_DENSITY', 'POP_BELOW_125_POVERTY_PCT', 'WHITE_POP_PCT', 'ASIAN_POP_PCT']\n",
    "\n",
    "Y = gdf[Y_name].to_numpy()\n",
    "X = gdf[X_name].to_numpy()\n",
    "\n",
    "sem = spreg.ML_Error(Y, X,  w=w, name_y=Y_name, name_x=X_name)\n",
    "\n",
    "print(sem.summary)"
   ]
  },
  {
   "cell_type": "markdown",
   "metadata": {},
   "source": [
    "SEM regression utilizing the Black Population Percent variable:"
   ]
  },
  {
   "cell_type": "code",
   "execution_count": 4,
   "metadata": {},
   "outputs": [
    {
     "name": "stdout",
     "output_type": "stream",
     "text": [
      "REGRESSION RESULTS\n",
      "------------------\n",
      "\n",
      "SUMMARY OF OUTPUT: ML SPATIAL ERROR (METHOD = full)\n",
      "---------------------------------------------------\n",
      "Data set            :     unknown\n",
      "Weights matrix      :     unknown\n",
      "Dependent Variable  :  CRIME_RATE                Number of Observations:          77\n",
      "Mean dependent var  :     61.8206                Number of Variables   :           6\n",
      "S.D. dependent var  :     39.4260                Degrees of Freedom    :          71\n",
      "Pseudo R-squared    :      0.8138\n",
      "Log likelihood      :   -318.0533\n",
      "Sigma-square ML     :    205.0680                Akaike info criterion :     648.107\n",
      "S.E of regression   :     14.3202                Schwarz criterion     :     662.169\n",
      "\n",
      "------------------------------------------------------------------------------------\n",
      "            Variable     Coefficient       Std.Error     z-Statistic     Probability\n",
      "------------------------------------------------------------------------------------\n",
      "            CONSTANT         6.72558         8.25126         0.81510         0.41502\n",
      "         POP_DENSITY        -0.00073         0.00088        -0.82720         0.40812\n",
      "LIQUOR_STORES_DENSITY        89.55267        11.16174         8.02318         0.00000\n",
      "POP_BELOW_125_POVERTY_PCT         0.58561         0.18420         3.17921         0.00148\n",
      "       BLACK_POP_PCT         0.59620         0.08833         6.74993         0.00000\n",
      "       ASIAN_POP_PCT         0.09244         0.20549         0.44982         0.65284\n",
      "              lambda         0.62576         0.10581         5.91397         0.00000\n",
      "------------------------------------------------------------------------------------\n",
      "================================ END OF REPORT =====================================\n"
     ]
    }
   ],
   "source": [
    "X_name = ['POP_DENSITY', 'LIQUOR_STORES_DENSITY', 'POP_BELOW_125_POVERTY_PCT', 'BLACK_POP_PCT', 'ASIAN_POP_PCT']\n",
    "\n",
    "X = gdf[X_name].to_numpy()\n",
    "\n",
    "sem = spreg.ML_Error(Y, X,  w=w, name_y=Y_name, name_x=X_name)\n",
    "\n",
    "print(sem.summary)"
   ]
  },
  {
   "cell_type": "markdown",
   "metadata": {},
   "source": [
    "The SEM shows a Pseudo R-squared values of 0.8058 and 0.8138, which is lower than the other models except OLS.\n",
    "\n",
    "Among all the predictors, *LIQUOR_STORES_DENSITY*, *POP_BELOW_125_POVERTY_PCT*, *WHITE_POP_PCT*, and *BLACK_POP_PCT* were found to be statistically significant at the 5% level. This is less compairing to the other models where more variables were significant. This could suggest that the other models are better at capturing the spatial dependence structure.\n",
    "\n",
    "In conclusion, while the SEM provides valuable insights, it appears that the SLM or 2SLS might be a better choice for this particular dataset and research question."
   ]
  }
 ],
 "metadata": {
  "kernelspec": {
   "display_name": ".venv",
   "language": "python",
   "name": "python3"
  },
  "language_info": {
   "codemirror_mode": {
    "name": "ipython",
    "version": 3
   },
   "file_extension": ".py",
   "mimetype": "text/x-python",
   "name": "python",
   "nbconvert_exporter": "python",
   "pygments_lexer": "ipython3",
   "version": "3.11.0"
  }
 },
 "nbformat": 4,
 "nbformat_minor": 2
}

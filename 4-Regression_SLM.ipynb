{
 "cells": [
  {
   "cell_type": "markdown",
   "metadata": {},
   "source": [
    "# Using Spatial Lag regression to estimate the impact of socio-economic factors on *Crime Rate* in Chicago\n"
   ]
  },
  {
   "cell_type": "markdown",
   "metadata": {},
   "source": [
    "In the process of evaluating our models, we adhere to a standard statistical significance threshold of 5%."
   ]
  },
  {
   "cell_type": "code",
   "execution_count": 1,
   "metadata": {},
   "outputs": [],
   "source": [
    "import geopandas as gpd\n",
    "import libpysal as  ps\n",
    "import spreg\n",
    "import warnings\n",
    "warnings.filterwarnings('ignore')\n",
    "from constants import PREPROCESSED_DATA_PATH\n",
    "\n",
    "gdf = gpd.read_file(PREPROCESSED_DATA_PATH)"
   ]
  },
  {
   "cell_type": "markdown",
   "metadata": {},
   "source": [
    "The code below creates a “Queen” contiguity weight matrix. In spatial analysis, a weight matrix defines the “neighbors” for each observation in the dataset. The “Queen” method considers two observations as neighbors if they share a common edge or a common vertex. Also, the normalization of the weight matrix using row-standardization is performed."
   ]
  },
  {
   "cell_type": "code",
   "execution_count": 2,
   "metadata": {},
   "outputs": [],
   "source": [
    "w = ps.weights.Queen.from_dataframe(gdf)\n",
    "w.transform='r'"
   ]
  },
  {
   "cell_type": "markdown",
   "metadata": {},
   "source": [
    "The `spreg.ML_Lag` class provides access to the ML estimation of the Maximum Likelihood Spatial Lag Model (SLM) with all results and diagnostics. SLM regression utilizing the White Population Percent variable:"
   ]
  },
  {
   "cell_type": "code",
   "execution_count": 3,
   "metadata": {},
   "outputs": [
    {
     "name": "stdout",
     "output_type": "stream",
     "text": [
      "REGRESSION RESULTS\n",
      "------------------\n",
      "\n",
      "SUMMARY OF OUTPUT: MAXIMUM LIKELIHOOD SPATIAL LAG (METHOD = FULL)\n",
      "-----------------------------------------------------------------\n",
      "Data set            :     unknown\n",
      "Weights matrix      :     unknown\n",
      "Dependent Variable  :  CRIME_RATE                Number of Observations:          77\n",
      "Mean dependent var  :     61.8206                Number of Variables   :           7\n",
      "S.D. dependent var  :     39.4260                Degrees of Freedom    :          70\n",
      "Pseudo R-squared    :      0.8707\n",
      "Spatial Pseudo R-squared:  0.8454\n",
      "Log likelihood      :   -314.9700\n",
      "Sigma-square ML     :    198.5522                Akaike info criterion :     643.940\n",
      "S.E of regression   :     14.0909                Schwarz criterion     :     660.347\n",
      "\n",
      "------------------------------------------------------------------------------------\n",
      "            Variable     Coefficient       Std.Error     z-Statistic     Probability\n",
      "------------------------------------------------------------------------------------\n",
      "            CONSTANT        22.77596        10.59224         2.15025         0.03154\n",
      "         POP_DENSITY        -0.00146         0.00067        -2.16510         0.03038\n",
      "LIQUOR_STORES_DENSITY       117.52415        10.51026        11.18185         0.00000\n",
      "POP_BELOW_125_POVERTY_PCT         0.51494         0.16780         3.06876         0.00215\n",
      "       WHITE_POP_PCT        -0.42637         0.09140        -4.66465         0.00000\n",
      "       ASIAN_POP_PCT        -0.34679         0.15993        -2.16838         0.03013\n",
      "        W_CRIME_RATE         0.47282         0.07781         6.07698         0.00000\n",
      "------------------------------------------------------------------------------------\n",
      "================================ END OF REPORT =====================================\n"
     ]
    }
   ],
   "source": [
    "Y_name = 'CRIME_RATE'\n",
    "X_name = ['POP_DENSITY', 'LIQUOR_STORES_DENSITY', 'POP_BELOW_125_POVERTY_PCT', 'WHITE_POP_PCT', 'ASIAN_POP_PCT']\n",
    "\n",
    "Y = gdf[Y_name].to_numpy()\n",
    "X = gdf[X_name].to_numpy()\n",
    "\n",
    "slm = spreg.ML_Lag(Y, X,  w=w, name_y=Y_name, name_x=X_name)\n",
    "\n",
    "print(slm.summary)"
   ]
  },
  {
   "cell_type": "markdown",
   "metadata": {},
   "source": [
    "SLM regression utilizing the Black Population Percent variable:"
   ]
  },
  {
   "cell_type": "code",
   "execution_count": 4,
   "metadata": {},
   "outputs": [
    {
     "name": "stdout",
     "output_type": "stream",
     "text": [
      "REGRESSION RESULTS\n",
      "------------------\n",
      "\n",
      "SUMMARY OF OUTPUT: MAXIMUM LIKELIHOOD SPATIAL LAG (METHOD = FULL)\n",
      "-----------------------------------------------------------------\n",
      "Data set            :     unknown\n",
      "Weights matrix      :     unknown\n",
      "Dependent Variable  :  CRIME_RATE                Number of Observations:          77\n",
      "Mean dependent var  :     61.8206                Number of Variables   :           7\n",
      "S.D. dependent var  :     39.4260                Degrees of Freedom    :          70\n",
      "Pseudo R-squared    :      0.8693\n",
      "Spatial Pseudo R-squared:  0.8364\n",
      "Log likelihood      :   -315.1734\n",
      "Sigma-square ML     :    200.6803                Akaike info criterion :     644.347\n",
      "S.E of regression   :     14.1662                Schwarz criterion     :     660.753\n",
      "\n",
      "------------------------------------------------------------------------------------\n",
      "            Variable     Coefficient       Std.Error     z-Statistic     Probability\n",
      "------------------------------------------------------------------------------------\n",
      "            CONSTANT       -14.28977         6.00701        -2.37885         0.01737\n",
      "         POP_DENSITY        -0.00120         0.00069        -1.73747         0.08230\n",
      "LIQUOR_STORES_DENSITY       107.84946        10.58672        10.18724         0.00000\n",
      "POP_BELOW_125_POVERTY_PCT         0.69042         0.14923         4.62642         0.00000\n",
      "       BLACK_POP_PCT         0.33516         0.07510         4.46298         0.00001\n",
      "       ASIAN_POP_PCT        -0.11209         0.17539        -0.63911         0.52275\n",
      "        W_CRIME_RATE         0.45025         0.08153         5.52236         0.00000\n",
      "------------------------------------------------------------------------------------\n",
      "================================ END OF REPORT =====================================\n"
     ]
    }
   ],
   "source": [
    "X_name = ['POP_DENSITY', 'LIQUOR_STORES_DENSITY', 'POP_BELOW_125_POVERTY_PCT', 'BLACK_POP_PCT', 'ASIAN_POP_PCT']\n",
    "\n",
    "X = gdf[X_name].to_numpy()\n",
    "\n",
    "slm = spreg.ML_Lag(Y, X,  w=w, name_y=Y_name, name_x=X_name)\n",
    "\n",
    "print(slm.summary)"
   ]
  },
  {
   "cell_type": "markdown",
   "metadata": {},
   "source": [
    "The SLM model shows a Pseudo R-squared value of 0.8707 where the *WHITE_POP_PCT* variable is used, and 0.8693 where *BLACK_POP_PCT* is utilized. This indicates that the SLM model is comparable to the S2SLS model, and definitely better than the OLS model.\n",
    "\n",
    "Among all the predictors, *LIQUOR_STORES_DENSITY*, *POP_BELOW_125_POVERTY_PCT*, *WHITE_POP_PCT*, *BLACK_POP_PCT* were found to be statistically significant at the 5% level. The *ASIAN_POP_PCT* was significant only in the regression utlizing the *WHITE_POP_PCT*. These results confirm the observations from the previously used models.\n",
    "\n",
    "The variable *W_CRIME_RATE* is significant as well, representing the spatial lag of the dependent variable *CRIME_RATE*. The positive Coefficient value indicates that the crime rate in a given location is influenced by the crime rates in neighboring locations."
   ]
  }
 ],
 "metadata": {
  "kernelspec": {
   "display_name": ".venv",
   "language": "python",
   "name": "python3"
  },
  "language_info": {
   "codemirror_mode": {
    "name": "ipython",
    "version": 3
   },
   "file_extension": ".py",
   "mimetype": "text/x-python",
   "name": "python",
   "nbconvert_exporter": "python",
   "pygments_lexer": "ipython3",
   "version": "3.11.0"
  }
 },
 "nbformat": 4,
 "nbformat_minor": 2
}
